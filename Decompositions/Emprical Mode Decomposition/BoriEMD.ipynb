{
 "cells": [
  {
   "cell_type": "code",
   "execution_count": 1,
   "metadata": {},
   "outputs": [],
   "source": [
    "import os\n",
    "import pandas as pd\n",
    "import numpy as np\n",
    "import matplotlib.pyplot as plt\n",
    "from scipy.io import wavfile\n",
    "from scipy.interpolate import CubicSpline\n",
    "from multiprocessing import Pool, cpu_count\n",
    "from tqdm import tqdm"
   ]
  },
  {
   "cell_type": "code",
   "execution_count": 2,
   "metadata": {},
   "outputs": [],
   "source": [
    "# csv_file_path = r\"../Data/audio_features.csv\"\n",
    "# audio_directory = r\"../Data/audios\"\n",
    "# imf_directory = r\"../IMFS/IMFS_EMD\"\n",
    "# residual_directory = r\"../Residual/Residual_EMD\"\n",
    "# reconstructed_directory = r\"../Reconstructed_Signal/RS_EMD\"\n",
    "# df = pd.read_csv(csv_file_path)"
   ]
  },
  {
   "cell_type": "code",
   "execution_count": 3,
   "metadata": {},
   "outputs": [],
   "source": [
    "def count_zero_crossings(signal):\n",
    "    \"\"\"Count zero-crossings in a signal.\"\"\"\n",
    "    return np.sum(np.diff(np.sign(signal)) != 0)"
   ]
  },
  {
   "cell_type": "code",
   "execution_count": 4,
   "metadata": {},
   "outputs": [],
   "source": [
    "def sift(residual, max_iter=128, tol=1e-4):\n",
    "    \"\"\"Extract one IMF with zero-crossing stopping criterion.\"\"\"\n",
    "    h = residual\n",
    "    for i in range(max_iter):\n",
    "        maxima = np.where((h[:-2] < h[1:-1]) & (h[1:-1] > h[2:]))[0] + 1\n",
    "        minima = np.where((h[:-2] > h[1:-1]) & (h[1:-1] < h[2:]))[0] + 1\n",
    "\n",
    "        if len(maxima) < 2 or len(minima) < 2:\n",
    "            break\n",
    "\n",
    "        upper_env = CubicSpline(maxima, h[maxima])(np.arange(len(h)))\n",
    "        lower_env = CubicSpline(minima, h[minima])(np.arange(len(h)))\n",
    "        mean_env = (upper_env + lower_env) / 2\n",
    "        new_h = h - mean_env\n",
    "\n",
    "        zero_crossings = count_zero_crossings(new_h)\n",
    "        extrema_count = len(maxima) + len(minima)\n",
    "        \n",
    "        if abs(zero_crossings - extrema_count) <= 1:\n",
    "            print(f\"IMF found with {i + 1} iterations\")\n",
    "            return new_h\n",
    "        h = new_h\n",
    "\n",
    "    return h"
   ]
  },
  {
   "cell_type": "code",
   "execution_count": 5,
   "metadata": {},
   "outputs": [],
   "source": [
    "def emd(signal, max_imfs=16):\n",
    "    \"\"\"Perform Empirical Mode Decomposition (EMD) on the signal.\"\"\"\n",
    "    imfs = []\n",
    "    residual = signal\n",
    "    for i in range(max_imfs):\n",
    "        imf = sift(residual)\n",
    "        imfs.append(imf)\n",
    "        residual -= imf\n",
    "        if np.all(np.abs(residual) < 1e-6):\n",
    "            break\n",
    "    return imfs, residual"
   ]
  },
  {
   "cell_type": "code",
   "execution_count": 6,
   "metadata": {},
   "outputs": [],
   "source": [
    "def save_audio(file_path, sample_rate, data):\n",
    "    \"\"\"Save audio data to a file, normalized to int16.\"\"\"\n",
    "    data = (data / np.max(np.abs(data))) * 32767\n",
    "    wavfile.write(file_path, sample_rate, data.astype(np.int16))"
   ]
  },
  {
   "cell_type": "code",
   "execution_count": 7,
   "metadata": {},
   "outputs": [
    {
     "name": "stdout",
     "output_type": "stream",
     "text": [
      "IMF found with 32 iterations\n",
      "IMF found with 101 iterations\n",
      "IMF found with 37 iterations\n",
      "IMF found with 6 iterations\n",
      "IMF found with 1 iterations\n",
      "IMF found with 7 iterations\n",
      "IMF found with 2 iterations\n",
      "IMF found with 2 iterations\n",
      "IMF found with 2 iterations\n"
     ]
    }
   ],
   "source": [
    "# For a single data point\n",
    "\n",
    "audio_path = '../../Dataset/neurovoz_v3/data/audios/HC_A1_0034.wav'\n",
    "sample_rate, data = wavfile.read(audio_path)\n",
    "data = np.array(data)\n",
    "\n",
    "data = data.astype(np.float32)\n",
    "imfs, residual = emd(signal=data)"
   ]
  },
  {
   "cell_type": "code",
   "execution_count": null,
   "metadata": {},
   "outputs": [],
   "source": [
    "def process_audio(row):\n",
    "    \"\"\"Process a single audio file using EMD and save IMFs, residual, and reconstructed signal.\"\"\"\n",
    "    relative_path = row['AudioPath'].strip().replace('../data/audios/', '')\n",
    "    file_path = os.path.join(audio_directory, relative_path)\n",
    "    \n",
    "    try:\n",
    "        # Read and normalize audio\n",
    "        sample_rate, data = wavfile.read(file_path)\n",
    "        data = data[:, 0] if len(data.shape) == 2 else data\n",
    "        data = data / np.max(np.abs(data))\n",
    "        print(f\"Processing file: {file_path}\")\n",
    "\n",
    "        # Apply EMD\n",
    "        imfs, residual = emd(data, max_imfs=10)\n",
    "\n",
    "        # Save each IMF and residual\n",
    "        for i, imf in enumerate(imfs):\n",
    "            output_file_path = os.path.join(imf_directory, f\"{os.path.splitext(os.path.basename(file_path))[0]}_imf_{i+1}.wav\")\n",
    "            save_audio(output_file_path, sample_rate, imf)\n",
    "            print(f\"IMF {i+1} saved: {output_file_path}\")\n",
    "\n",
    "        # Save residual\n",
    "        residual_path = os.path.join(residual_directory, f\"{os.path.splitext(os.path.basename(file_path))[0]}_residual.wav\")\n",
    "        save_audio(residual_path, sample_rate, residual)\n",
    "        print(f\"Residual saved: {residual_path}\")\n",
    "\n",
    "        # Save reconstructed signal (sum of IMFs)\n",
    "        reconstructed = np.sum(imfs, axis=0)\n",
    "        reconstructed_path = os.path.join(reconstructed_directory, f\"{os.path.splitext(os.path.basename(file_path))[0]}_reconstructed.wav\")\n",
    "        save_audio(reconstructed_path, sample_rate, reconstructed)\n",
    "        print(f\"Reconstructed signal saved: {reconstructed_path}\")\n",
    "\n",
    "    except FileNotFoundError as e:\n",
    "        print(f\"File not found: {file_path}. Error: {e}\")\n",
    "    except Exception as e:\n",
    "        print(f\"Error processing {file_path}: {e}\")"
   ]
  },
  {
   "cell_type": "code",
   "execution_count": null,
   "metadata": {},
   "outputs": [],
   "source": [
    "print(\"Starting EMD processing for all audio files sequentially.\")\n",
    "for _, row in tqdm(df.iterrows(), total=len(df)):\n",
    "    process_audio(row)\n",
    "print(\"Processing completed.\")"
   ]
  },
  {
   "cell_type": "code",
   "execution_count": null,
   "metadata": {},
   "outputs": [],
   "source": [
    "def plot_emd_results(file_base_name, sample_rate=16000):\n",
    "    \"\"\"\n",
    "    Plots the IMFs, residual, and reconstructed signal for a specific audio file.\n",
    "    Assumes files are saved in the specified directories.\n",
    "    \"\"\"\n",
    "    # Load IMFs\n",
    "    imf_files = sorted([f for f in os.listdir(imf_directory) if f.startswith(file_base_name) and '_imf_' in f])\n",
    "    imfs = [wavfile.read(os.path.join(imf_directory, f))[1] for f in imf_files]\n",
    "\n",
    "    # Load residual\n",
    "    residual_path = os.path.join(residual_directory, f\"{file_base_name}_residual.wav\")\n",
    "    _, residual = wavfile.read(residual_path)\n",
    "\n",
    "    # Load reconstructed signal\n",
    "    reconstructed_path = os.path.join(reconstructed_directory, f\"{file_base_name}_reconstructed.wav\")\n",
    "    _, reconstructed = wavfile.read(reconstructed_path)\n",
    "\n",
    "    # Plot IMFs, residual, and reconstructed signal\n",
    "    num_imfs = len(imfs)\n",
    "    plt.figure(figsize=(10, 2 * (num_imfs + 2)))  # Adjust height based on number of plots\n",
    "\n",
    "    # Plot each IMF\n",
    "    for i, imf in enumerate(imfs, 1):\n",
    "        plt.subplot(num_imfs + 2, 1, i)\n",
    "        plt.plot(imf)\n",
    "        plt.title(f\"IMF {i}\")\n",
    "        plt.xlabel(\"Sample\")\n",
    "        plt.ylabel(\"Amplitude\")\n",
    "\n",
    "    # Plot residual\n",
    "    plt.subplot(num_imfs + 2, 1, num_imfs + 1)\n",
    "    plt.plot(residual, color=\"orange\")\n",
    "    plt.title(\"Residual\")\n",
    "    plt.xlabel(\"Sample\")\n",
    "    plt.ylabel(\"Amplitude\")\n",
    "\n",
    "    # Plot reconstructed signal\n",
    "    plt.subplot(num_imfs + 2, 1, num_imfs + 2)\n",
    "    plt.plot(reconstructed, color=\"green\")\n",
    "    plt.title(\"Reconstructed Signal\")\n",
    "    plt.xlabel(\"Sample\")\n",
    "    plt.ylabel(\"Amplitude\")\n",
    "\n",
    "    plt.tight_layout()\n",
    "    plt.show()\n",
    "\n",
    "# Usage example:\n",
    "file_base_name = \"PD_A2_0047\"  # Replace with your actual file's base name\n",
    "plot_emd_results(file_base_name)\n"
   ]
  }
 ],
 "metadata": {
  "kernelspec": {
   "display_name": "TorchEnv2",
   "language": "python",
   "name": "python3"
  },
  "language_info": {
   "codemirror_mode": {
    "name": "ipython",
    "version": 3
   },
   "file_extension": ".py",
   "mimetype": "text/x-python",
   "name": "python",
   "nbconvert_exporter": "python",
   "pygments_lexer": "ipython3",
   "version": "3.12.3"
  }
 },
 "nbformat": 4,
 "nbformat_minor": 2
}
