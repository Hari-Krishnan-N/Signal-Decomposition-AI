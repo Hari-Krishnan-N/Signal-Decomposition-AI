{
 "cells": [
  {
   "cell_type": "code",
   "execution_count": 1,
   "metadata": {},
   "outputs": [],
   "source": [
    "import torch\n",
    "from torchinfo import summary \n",
    "from model import LSTMClassifier"
   ]
  },
  {
   "cell_type": "code",
   "execution_count": 2,
   "metadata": {},
   "outputs": [
    {
     "data": {
      "text/plain": [
       "========================================================================================================================\n",
       "Layer (type (var_name))                  Input Shape          Output Shape         Param #              Trainable\n",
       "========================================================================================================================\n",
       "LSTMClassifier (LSTMClassifier)          [4, 10, 512, 512]    [4, 1]               8,421,376            True\n",
       "├─ImageEncoder (img_encoder)             [4, 10, 512, 512]    [4, 640, 256]        --                   True\n",
       "│    └─Sequential (patch_conv)           [4, 10, 512, 512]    [4, 10, 256, 256]    --                   True\n",
       "│    │    └─Conv2d (0)                   [4, 10, 512, 512]    [4, 10, 256, 256]    1,610                True\n",
       "│    │    └─ReLU (1)                     [4, 10, 256, 256]    [4, 10, 256, 256]    --                   --\n",
       "│    │    └─BatchNorm2d (2)              [4, 10, 256, 256]    [4, 10, 256, 256]    20                   True\n",
       "│    └─Dropout (dropout)                 [4, 10, 256, 256]    [4, 10, 256, 256]    --                   --\n",
       "│    └─LSTM (encoder)                    [4, 640, 1024]       [4, 640, 256]        4,997,120            True\n",
       "├─Dropout (dropout)                      [4, 640, 256]        [4, 640, 256]        --                   --\n",
       "├─Sequential (final_fc)                  [4, 256]             [4, 1]               --                   True\n",
       "│    └─Linear (0)                        [4, 256]             [4, 256]             65,792               True\n",
       "│    └─ReLU (1)                          [4, 256]             [4, 256]             --                   --\n",
       "│    └─Linear (2)                        [4, 256]             [4, 1]               257                  True\n",
       "========================================================================================================================\n",
       "Total params: 13,486,175\n",
       "Trainable params: 13,486,175\n",
       "Non-trainable params: 0\n",
       "Total mult-adds (Units.GIGABYTES): 13.21\n",
       "========================================================================================================================\n",
       "Input size (MB): 65.54\n",
       "Forward/backward pass size (MB): 47.19\n",
       "Params size (MB): 20.26\n",
       "Estimated Total Size (MB): 132.99\n",
       "========================================================================================================================"
      ]
     },
     "execution_count": 2,
     "metadata": {},
     "output_type": "execute_result"
    }
   ],
   "source": [
    "model = LSTMClassifier(mode='image').to('cuda')\n",
    "\n",
    "img = torch.rand(4, 10, 512, 512).to('cuda')\n",
    "audio = torch.rand(4, 1440, 1024).to('cuda')\n",
    "\n",
    "summary(model=model,\n",
    "        input_data=(img, audio),\n",
    "        col_names=['input_size', 'output_size', 'num_params', 'trainable'],\n",
    "        col_width=20,\n",
    "        row_settings=['var_names'])"
   ]
  },
  {
   "cell_type": "code",
   "execution_count": 3,
   "metadata": {},
   "outputs": [
    {
     "data": {
      "text/plain": [
       "========================================================================================================================\n",
       "Layer (type (var_name))                  Input Shape          Output Shape         Param #              Trainable\n",
       "========================================================================================================================\n",
       "LSTMClassifier (LSTMClassifier)          [4, 10, 512, 512]    [4, 1]               8,423,006            True\n",
       "├─AudioEncoder (audio_encoder)           [4, 1440, 1024]      [4, 1440, 256]       --                   True\n",
       "│    └─LSTM (encoder)                    [4, 1440, 1024]      [4, 1440, 256]       4,997,120            True\n",
       "├─Dropout (dropout)                      [4, 1440, 256]       [4, 1440, 256]       --                   --\n",
       "├─Sequential (final_fc)                  [4, 256]             [4, 1]               --                   True\n",
       "│    └─Linear (0)                        [4, 256]             [4, 256]             65,792               True\n",
       "│    └─ReLU (1)                          [4, 256]             [4, 256]             --                   --\n",
       "│    └─Linear (2)                        [4, 256]             [4, 1]               257                  True\n",
       "========================================================================================================================\n",
       "Total params: 13,486,175\n",
       "Trainable params: 13,486,175\n",
       "Non-trainable params: 0\n",
       "Total mult-adds (Units.GIGABYTES): 28.78\n",
       "========================================================================================================================\n",
       "Input size (MB): 65.54\n",
       "Forward/backward pass size (MB): 11.80\n",
       "Params size (MB): 20.25\n",
       "Estimated Total Size (MB): 97.59\n",
       "========================================================================================================================"
      ]
     },
     "execution_count": 3,
     "metadata": {},
     "output_type": "execute_result"
    }
   ],
   "source": [
    "model = LSTMClassifier(mode='audio').to('cuda')\n",
    "\n",
    "img = torch.rand(4, 10, 512, 512).to('cuda')\n",
    "audio = torch.rand(4, 1440, 1024).to('cuda')\n",
    "\n",
    "summary(model=model,\n",
    "        input_data=(img, audio),\n",
    "        col_names=['input_size', 'output_size', 'num_params', 'trainable'],\n",
    "        col_width=20,\n",
    "        row_settings=['var_names'])"
   ]
  },
  {
   "cell_type": "code",
   "execution_count": 4,
   "metadata": {},
   "outputs": [
    {
     "data": {
      "text/plain": [
       "========================================================================================================================\n",
       "Layer (type (var_name))                  Input Shape          Output Shape         Param #              Trainable\n",
       "========================================================================================================================\n",
       "LSTMClassifier (LSTMClassifier)          [4, 10, 512, 512]    [4, 1]               --                   True\n",
       "├─ImageEncoder (img_encoder)             [4, 10, 512, 512]    [4, 640, 256]        --                   True\n",
       "│    └─Sequential (patch_conv)           [4, 10, 512, 512]    [4, 10, 256, 256]    --                   True\n",
       "│    │    └─Conv2d (0)                   [4, 10, 512, 512]    [4, 10, 256, 256]    1,610                True\n",
       "│    │    └─ReLU (1)                     [4, 10, 256, 256]    [4, 10, 256, 256]    --                   --\n",
       "│    │    └─BatchNorm2d (2)              [4, 10, 256, 256]    [4, 10, 256, 256]    20                   True\n",
       "│    └─Dropout (dropout)                 [4, 10, 256, 256]    [4, 10, 256, 256]    --                   --\n",
       "│    └─LSTM (encoder)                    [4, 640, 1024]       [4, 640, 256]        4,997,120            True\n",
       "├─AudioEncoder (audio_encoder)           [4, 1440, 1024]      [4, 1440, 256]       --                   True\n",
       "│    └─LSTM (encoder)                    [4, 1440, 1024]      [4, 1440, 256]       4,997,120            True\n",
       "├─Dropout (dropout)                      [4, 640, 256]        [4, 640, 256]        --                   --\n",
       "├─Dropout (dropout)                      [4, 1440, 256]       [4, 1440, 256]       --                   --\n",
       "├─LSTM (final_encoder)                   [4, 2080, 256]       [4, 2080, 256]       3,424,256            True\n",
       "├─Dropout (dropout)                      [4, 2080, 256]       [4, 2080, 256]       --                   --\n",
       "├─Sequential (final_fc)                  [4, 256]             [4, 1]               --                   True\n",
       "│    └─Linear (0)                        [4, 256]             [4, 256]             65,792               True\n",
       "│    └─ReLU (1)                          [4, 256]             [4, 256]             --                   --\n",
       "│    └─Linear (2)                        [4, 256]             [4, 1]               257                  True\n",
       "========================================================================================================================\n",
       "Total params: 13,486,175\n",
       "Trainable params: 13,486,175\n",
       "Non-trainable params: 0\n",
       "Total mult-adds (Units.GIGABYTES): 70.49\n",
       "========================================================================================================================\n",
       "Input size (MB): 65.54\n",
       "Forward/backward pass size (MB): 76.03\n",
       "Params size (MB): 53.94\n",
       "Estimated Total Size (MB): 195.51\n",
       "========================================================================================================================"
      ]
     },
     "execution_count": 4,
     "metadata": {},
     "output_type": "execute_result"
    }
   ],
   "source": [
    "model = LSTMClassifier().to('cuda')\n",
    "\n",
    "img = torch.rand(4, 10, 512, 512).to('cuda')\n",
    "audio = torch.rand(4, 1440, 1024).to('cuda')\n",
    "\n",
    "summary(model=model,\n",
    "        input_data=(img, audio),\n",
    "        col_names=['input_size', 'output_size', 'num_params', 'trainable'],\n",
    "        col_width=20,\n",
    "        row_settings=['var_names'])"
   ]
  }
 ],
 "metadata": {
  "kernelspec": {
   "display_name": "TorchEnv2",
   "language": "python",
   "name": "python3"
  },
  "language_info": {
   "codemirror_mode": {
    "name": "ipython",
    "version": 3
   },
   "file_extension": ".py",
   "mimetype": "text/x-python",
   "name": "python",
   "nbconvert_exporter": "python",
   "pygments_lexer": "ipython3",
   "version": "3.12.8"
  }
 },
 "nbformat": 4,
 "nbformat_minor": 2
}
