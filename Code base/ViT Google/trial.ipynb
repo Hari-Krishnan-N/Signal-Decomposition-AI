{
 "cells": [
  {
   "cell_type": "code",
   "execution_count": 1,
   "metadata": {},
   "outputs": [
    {
     "name": "stderr",
     "output_type": "stream",
     "text": [
      "c:\\Users\\ganes\\anaconda3\\envs\\TorchEnv2\\Lib\\site-packages\\tqdm\\auto.py:21: TqdmWarning: IProgress not found. Please update jupyter and ipywidgets. See https://ipywidgets.readthedocs.io/en/stable/user_install.html\n",
      "  from .autonotebook import tqdm as notebook_tqdm\n"
     ]
    }
   ],
   "source": [
    "import torch\n",
    "from torch import nn\n",
    "from transformers import ViTImageProcessor, ViTForImageClassification\n",
    "from torchinfo import summary"
   ]
  },
  {
   "cell_type": "code",
   "execution_count": 2,
   "metadata": {},
   "outputs": [],
   "source": [
    "processor = ViTImageProcessor.from_pretrained('google/vit-base-patch16-224')\n",
    "model = ViTForImageClassification.from_pretrained('google/vit-base-patch16-224')"
   ]
  },
  {
   "cell_type": "code",
   "execution_count": 3,
   "metadata": {},
   "outputs": [],
   "source": [
    "# summary(model.vit.encoder.layer[0].attention.attention)"
   ]
  },
  {
   "cell_type": "code",
   "execution_count": 4,
   "metadata": {},
   "outputs": [],
   "source": [
    "# import inspect\n",
    "\n",
    "# print(inspect.getsource(model.__init__))"
   ]
  },
  {
   "cell_type": "code",
   "execution_count": 5,
   "metadata": {},
   "outputs": [],
   "source": [
    "# import inspect\n",
    "\n",
    "# print(inspect.getsource(model.forward))"
   ]
  },
  {
   "cell_type": "code",
   "execution_count": 6,
   "metadata": {},
   "outputs": [],
   "source": [
    "# model.vit.embeddings.patch_embeddings.projection"
   ]
  },
  {
   "cell_type": "code",
   "execution_count": 7,
   "metadata": {},
   "outputs": [],
   "source": [
    "# model.config"
   ]
  },
  {
   "cell_type": "code",
   "execution_count": 8,
   "metadata": {},
   "outputs": [],
   "source": [
    "new_first_layer = nn.Conv2d(\n",
    "    in_channels=16,\n",
    "    out_channels=768,   \n",
    "    kernel_size=16,\n",
    "    stride=16,\n",
    "    padding=0\n",
    ")\n",
    "\n",
    "with torch.no_grad():\n",
    "    new_first_layer.weight[:, :3] = model.vit.embeddings.patch_embeddings.projection.weight.clone()\n",
    "    new_first_layer.weight[:, 3:] = torch.mean(model.vit.embeddings.patch_embeddings.projection.weight, dim=1, keepdim=True).repeat(1, 13, 1, 1)\n",
    "\n",
    "model.vit.embeddings.patch_embeddings.projection = new_first_layer\n",
    "model.classifier = nn.Linear(in_features=768, out_features=1, bias=True)\n",
    "\n",
    "model.config.num_channels = 16\n",
    "model.config.num_labels = 1 \n",
    "model.vit.embeddings.patch_embeddings.num_channels = 16"
   ]
  },
  {
   "cell_type": "code",
   "execution_count": 9,
   "metadata": {},
   "outputs": [],
   "source": [
    "# model.config"
   ]
  },
  {
   "cell_type": "code",
   "execution_count": 10,
   "metadata": {},
   "outputs": [],
   "source": [
    "# model.vit.embeddings.patch_embeddings"
   ]
  },
  {
   "cell_type": "code",
   "execution_count": 11,
   "metadata": {},
   "outputs": [
    {
     "data": {
      "text/plain": [
       "======================================================================================================================================================\n",
       "Layer (type (var_name))                                                Input Shape          Output Shape         Param #              Trainable\n",
       "======================================================================================================================================================\n",
       "ViTForImageClassification (ViTForImageClassification)                  [4, 16, 224, 224]    [4, 1]               --                   True\n",
       "├─ViTModel (vit)                                                       [4, 16, 224, 224]    [4, 197, 768]        --                   True\n",
       "│    └─ViTEmbeddings (embeddings)                                      [4, 16, 224, 224]    [4, 197, 768]        152,064              True\n",
       "│    │    └─ViTPatchEmbeddings (patch_embeddings)                      [4, 16, 224, 224]    [4, 196, 768]        3,146,496            True\n",
       "│    │    └─Dropout (dropout)                                          [4, 197, 768]        [4, 197, 768]        --                   --\n",
       "│    └─ViTEncoder (encoder)                                            [4, 197, 768]        [4, 197, 768]        --                   True\n",
       "│    │    └─ModuleList (layer)                                         --                   --                   85,054,464           True\n",
       "│    └─LayerNorm (layernorm)                                           [4, 197, 768]        [4, 197, 768]        1,536                True\n",
       "├─Linear (classifier)                                                  [4, 768]             [4, 1]               769                  True\n",
       "======================================================================================================================================================\n",
       "Total params: 88,355,329\n",
       "Trainable params: 88,355,329\n",
       "Non-trainable params: 0\n",
       "Total mult-adds (Units.GIGABYTES): 2.81\n",
       "======================================================================================================================================================\n",
       "Input size (MB): 12.85\n",
       "Forward/backward pass size (MB): 648.73\n",
       "Params size (MB): 352.81\n",
       "Estimated Total Size (MB): 1014.39\n",
       "======================================================================================================================================================"
      ]
     },
     "execution_count": 11,
     "metadata": {},
     "output_type": "execute_result"
    }
   ],
   "source": [
    "summary(model=model,\n",
    "        input_size=(4, 16, 224, 224),\n",
    "        col_names=['input_size', 'output_size', 'num_params', 'trainable'],\n",
    "        col_width=20,\n",
    "        row_settings=['var_names'])"
   ]
  }
 ],
 "metadata": {
  "kernelspec": {
   "display_name": "TorchEnv2",
   "language": "python",
   "name": "python3"
  },
  "language_info": {
   "codemirror_mode": {
    "name": "ipython",
    "version": 3
   },
   "file_extension": ".py",
   "mimetype": "text/x-python",
   "name": "python",
   "nbconvert_exporter": "python",
   "pygments_lexer": "ipython3",
   "version": "3.12.8"
  }
 },
 "nbformat": 4,
 "nbformat_minor": 2
}
