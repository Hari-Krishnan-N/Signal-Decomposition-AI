{
 "cells": [
  {
   "cell_type": "code",
   "execution_count": 2,
   "metadata": {},
   "outputs": [],
   "source": [
    "import torchaudio\n",
    "import os"
   ]
  },
  {
   "cell_type": "code",
   "execution_count": 6,
   "metadata": {},
   "outputs": [
    {
     "name": "stdout",
     "output_type": "stream",
     "text": [
      "HC_PATAKA_0128.wav\n",
      "HC_PATAKA_0136.wav\n",
      "HC_PATAKA_0137.wav\n"
     ]
    }
   ],
   "source": [
    "root = \"E:/Amrita/Subjects/Sem 5/BMSP paper work/Dataset/Final VMD/Reconstructed\"\n",
    "for file in os.listdir(root):\n",
    "    path = os.path.join(root, file)\n",
    "    signal, sr = torchaudio.load(path)\n",
    "    if signal.shape[1] > 491520:\n",
    "        print(file)"
   ]
  }
 ],
 "metadata": {
  "kernelspec": {
   "display_name": "TorchEnv2",
   "language": "python",
   "name": "python3"
  },
  "language_info": {
   "codemirror_mode": {
    "name": "ipython",
    "version": 3
   },
   "file_extension": ".py",
   "mimetype": "text/x-python",
   "name": "python",
   "nbconvert_exporter": "python",
   "pygments_lexer": "ipython3",
   "version": "3.12.3"
  }
 },
 "nbformat": 4,
 "nbformat_minor": 2
}
